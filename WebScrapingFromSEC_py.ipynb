{
  "nbformat": 4,
  "nbformat_minor": 0,
  "metadata": {
    "colab": {
      "name": "WebScrapingFromSEC.py",
      "provenance": [],
      "authorship_tag": "ABX9TyMLGqmZAOMnx3BTWoFa94uj",
      "include_colab_link": true
    },
    "kernelspec": {
      "name": "python3",
      "display_name": "Python 3"
    },
    "language_info": {
      "name": "python"
    }
  },
  "cells": [
    {
      "cell_type": "markdown",
      "metadata": {
        "id": "view-in-github",
        "colab_type": "text"
      },
      "source": [
        "<a href=\"https://colab.research.google.com/github/leejyy/web-scraping-SEC-office-data/blob/main/WebScrapingFromSEC_py.ipynb\" target=\"_parent\"><img src=\"https://colab.research.google.com/assets/colab-badge.svg\" alt=\"Open In Colab\"/></a>"
      ]
    },
    {
      "cell_type": "markdown",
      "source": [
        "### Fetching imformation from SEC office by using Beautiful Soup"
      ],
      "metadata": {
        "id": "B_Svpa7-PNt7"
      }
    },
    {
      "cell_type": "code",
      "source": [
        "from bs4 import BeautifulSoup\n",
        "from urllib.request import urlopen\n",
        "import requests\n",
        "\n",
        "\n",
        "#SEC Offices Homepages\n",
        "r = requests.get('https://www.sec.gov/divisions.shtml') #use a request package to get a particular webpage\n",
        "c=r.text\n",
        "#print(c)\n",
        "#print('--------------------------------------')\n",
        "\n",
        "# type(c) = The data type of c is \"string\"\n",
        "\n",
        "soup = BeautifulSoup(c, 'html.parser')  # html.parser means parsing a HTML Webpage.\n",
        "x=soup.find_all(\"div\",class_=\"border-bottom margin-bottom-15\") # div tag: division data # finding all the div which has class:\"border-bottom margin-bottom-15\"\n",
        "\n",
        "#print(x,end=\"\\n\")                                             # The data type of x is \"List\"\n",
        "for item in x:                                                 # This is loop function that will run for as many as the number of items in x.\n",
        "    print(item)                                                # printing all the items results in x\n",
        "    print('--------------------------------------')"
      ],
      "metadata": {
        "colab": {
          "base_uri": "https://localhost:8080/"
        },
        "id": "83Kkfv6DPdjT",
        "outputId": "91859f67-3daf-4aab-d74e-2d13af02e930"
      },
      "execution_count": 2,
      "outputs": [
        {
          "output_type": "stream",
          "name": "stdout",
          "text": [
            "<div class=\"border-bottom margin-bottom-15\"><span><a href=\"/osi\">EDGAR Business Office</a></span></div>\n",
            "--------------------------------------\n",
            "<div class=\"border-bottom margin-bottom-15\"><span><a href=\"/about/offices/oacq.htm\">Office of Acquisitions</a></span></div>\n",
            "--------------------------------------\n",
            "<div class=\"border-bottom margin-bottom-15\"><span><a href=\"/alj.shtml\">Office of Administrative Law Judges</a></span></div>\n",
            "--------------------------------------\n",
            "<div class=\"border-bottom margin-bottom-15\"><span><a href=\"/oasb\">Office of the Advocate for Small Business Capital Formation</a></span></div>\n",
            "--------------------------------------\n",
            "<div class=\"border-bottom margin-bottom-15\"><span><a href=\"/about/offices/oca.htm\">Office of the Chief Accountant</a></span></div>\n",
            "--------------------------------------\n",
            "<div class=\"border-bottom margin-bottom-15\"><span><a href=\"/page/ocoosectionlanding\">Office of the Chief Operating Officer</a></span></div>\n",
            "--------------------------------------\n",
            "<div class=\"border-bottom margin-bottom-15\"><span><a href=\"/about/offices/ocr.shtml\">Office of Credit Ratings</a></span></div>\n",
            "--------------------------------------\n",
            "<div class=\"border-bottom margin-bottom-15\"><span><a href=\"/eeoinfo.shtml\">Office of Equal Employment Opportunity</a></span></div>\n",
            "--------------------------------------\n",
            "<div class=\"border-bottom margin-bottom-15\"><span><a href=\"/about/offices/ethics.shtml\">Office of the Ethics Counsel</a></span></div>\n",
            "--------------------------------------\n",
            "<div class=\"border-bottom margin-bottom-15\"><span><a href=\"/about/offices/ofm.htm\">Office of Financial Management</a></span></div>\n",
            "--------------------------------------\n",
            "<div class=\"border-bottom margin-bottom-15\"><span><a href=\"/about/offices/ogc.htm\">Office of the General Counsel</a></span></div>\n",
            "--------------------------------------\n",
            "<div class=\"border-bottom margin-bottom-15\"><span><a href=\"/about/offices/ohr.htm\">Office of Human Resources</a></span></div>\n",
            "--------------------------------------\n",
            "<div class=\"border-bottom margin-bottom-15\"><span><a href=\"/about/offices/oit.htm\">Office of Information Technology</a></span></div>\n",
            "--------------------------------------\n",
            "<div class=\"border-bottom margin-bottom-15\"><span><a href=\"/about/offices/inspector_general.shtml\">Office of Inspector General</a> </span></div>\n",
            "--------------------------------------\n",
            "<div class=\"border-bottom margin-bottom-15\"><span><a href=\"/about/offices/oia.shtml\">Office of International Affairs</a></span></div>\n",
            "--------------------------------------\n",
            "<div class=\"border-bottom margin-bottom-15\"><span><a href=\"/investorad\">Office of the Investor Advocate</a></span></div>\n",
            "--------------------------------------\n",
            "<div class=\"border-bottom margin-bottom-15\"><span><a href=\"/oiea\">Office of Investor Education and Advocacy</a></span></div>\n",
            "--------------------------------------\n",
            "<div class=\"border-bottom margin-bottom-15\"><span><a href=\"/about/offices/olia.htm\">Office of Legislative and Intergovernmental Affairs</a></span></div>\n",
            "--------------------------------------\n",
            "<div class=\"border-bottom margin-bottom-15\"><span><a href=\"/about/offices/omwi.htm\">Office of Minority and Women Inclusion</a></span></div>\n",
            "--------------------------------------\n",
            "<div class=\"border-bottom margin-bottom-15\"><span><a href=\"/info/municipal.shtml\">Office of Municipal Securities</a></span></div>\n",
            "--------------------------------------\n",
            "<div class=\"border-bottom margin-bottom-15\"><span><a href=\"/about/offices/opa.htm\">Office of Public Affairs</a></span></div>\n",
            "--------------------------------------\n",
            "<div class=\"border-bottom margin-bottom-15\"><span><a href=\"/about/offices/os.htm\">Office of the Secretary </a></span></div>\n",
            "--------------------------------------\n",
            "<div class=\"border-bottom margin-bottom-15\"><span><a href=\"/finhub\">Office of the Strategic Hub for Innovation and Financial Technology (FinHub)</a></span></div>\n",
            "--------------------------------------\n",
            "<div class=\"border-bottom margin-bottom-15\"><span><a href=\"/about/offices/oso.htm\">Office of Support Operations</a></span></div>\n",
            "--------------------------------------\n",
            "<div class=\"border-bottom margin-bottom-15\"><span><a href=\"/page/sec-regional-offices\">Regional Offices</a></span></div>\n",
            "--------------------------------------\n"
          ]
        }
      ]
    },
    {
      "cell_type": "code",
      "source": [
        "# dt: a dictionary object\n",
        "# Finding the all of the office names and storing them in a dictionary\n",
        "\n",
        "dt={}\n",
        "for element in x:\n",
        "    dt[element.a.get_text()]={}\n",
        "for key,value in dt.items():\n",
        "    print(key,value)"
      ],
      "metadata": {
        "colab": {
          "base_uri": "https://localhost:8080/"
        },
        "id": "3Y0wUowJPpPi",
        "outputId": "6dcc86be-3408-476e-82bb-93a43c8fff17"
      },
      "execution_count": 3,
      "outputs": [
        {
          "output_type": "stream",
          "name": "stdout",
          "text": [
            "EDGAR Business Office {}\n",
            "Office of Acquisitions {}\n",
            "Office of Administrative Law Judges {}\n",
            "Office of the Advocate for Small Business Capital Formation {}\n",
            "Office of the Chief Accountant {}\n",
            "Office of the Chief Operating Officer {}\n",
            "Office of Credit Ratings {}\n",
            "Office of Equal Employment Opportunity {}\n",
            "Office of the Ethics Counsel {}\n",
            "Office of Financial Management {}\n",
            "Office of the General Counsel {}\n",
            "Office of Human Resources {}\n",
            "Office of Information Technology {}\n",
            "Office of Inspector General {}\n",
            "Office of International Affairs {}\n",
            "Office of the Investor Advocate {}\n",
            "Office of Investor Education and Advocacy {}\n",
            "Office of Legislative and Intergovernmental Affairs {}\n",
            "Office of Minority and Women Inclusion {}\n",
            "Office of Municipal Securities {}\n",
            "Office of Public Affairs {}\n",
            "Office of the Secretary  {}\n",
            "Office of the Strategic Hub for Innovation and Financial Technology (FinHub) {}\n",
            "Office of Support Operations {}\n",
            "Regional Offices {}\n"
          ]
        }
      ]
    },
    {
      "cell_type": "code",
      "source": [
        "# Extracting a link of each office\n",
        "# x[0]: first element in the x\n",
        "# a tag\n",
        "# href: local link\n",
        "\n",
        "x[0].a[\"href\"]"
      ],
      "metadata": {
        "colab": {
          "base_uri": "https://localhost:8080/",
          "height": 35
        },
        "id": "p7WGx6MgTiqP",
        "outputId": "49648ee9-5b2d-452e-8821-45c613b21cb7"
      },
      "execution_count": 4,
      "outputs": [
        {
          "output_type": "execute_result",
          "data": {
            "application/vnd.google.colaboratory.intrinsic+json": {
              "type": "string"
            },
            "text/plain": [
              "'/osi'"
            ]
          },
          "metadata": {},
          "execution_count": 4
        }
      ]
    },
    {
      "cell_type": "code",
      "source": [
        "# prefix = domain name\n",
        "# Combining domain name and local link\n",
        "# Showing link to each element\n",
        "\n",
        "prefix=\"https://www.sec.gov\"\n",
        "for element in x:\n",
        "    dt[element.a.get_text()][\"link\"]=prefix+element.a[\"href\"] # link = domain name plus local link\n",
        "    \n",
        "for key,value in dt.items():\n",
        "    print(key,value,sep='\\n',end='\\n\\n') # puting office names and office link in a seperate line "
      ],
      "metadata": {
        "colab": {
          "base_uri": "https://localhost:8080/"
        },
        "id": "sjc3gSF4P3N5",
        "outputId": "79bda70f-e882-4188-9b9c-db318b62863e"
      },
      "execution_count": 5,
      "outputs": [
        {
          "output_type": "stream",
          "name": "stdout",
          "text": [
            "EDGAR Business Office\n",
            "{'link': 'https://www.sec.gov/osi'}\n",
            "\n",
            "Office of Acquisitions\n",
            "{'link': 'https://www.sec.gov/about/offices/oacq.htm'}\n",
            "\n",
            "Office of Administrative Law Judges\n",
            "{'link': 'https://www.sec.gov/alj.shtml'}\n",
            "\n",
            "Office of the Advocate for Small Business Capital Formation\n",
            "{'link': 'https://www.sec.gov/oasb'}\n",
            "\n",
            "Office of the Chief Accountant\n",
            "{'link': 'https://www.sec.gov/about/offices/oca.htm'}\n",
            "\n",
            "Office of the Chief Operating Officer\n",
            "{'link': 'https://www.sec.gov/page/ocoosectionlanding'}\n",
            "\n",
            "Office of Credit Ratings\n",
            "{'link': 'https://www.sec.gov/about/offices/ocr.shtml'}\n",
            "\n",
            "Office of Equal Employment Opportunity\n",
            "{'link': 'https://www.sec.gov/eeoinfo.shtml'}\n",
            "\n",
            "Office of the Ethics Counsel\n",
            "{'link': 'https://www.sec.gov/about/offices/ethics.shtml'}\n",
            "\n",
            "Office of Financial Management\n",
            "{'link': 'https://www.sec.gov/about/offices/ofm.htm'}\n",
            "\n",
            "Office of the General Counsel\n",
            "{'link': 'https://www.sec.gov/about/offices/ogc.htm'}\n",
            "\n",
            "Office of Human Resources\n",
            "{'link': 'https://www.sec.gov/about/offices/ohr.htm'}\n",
            "\n",
            "Office of Information Technology\n",
            "{'link': 'https://www.sec.gov/about/offices/oit.htm'}\n",
            "\n",
            "Office of Inspector General\n",
            "{'link': 'https://www.sec.gov/about/offices/inspector_general.shtml'}\n",
            "\n",
            "Office of International Affairs\n",
            "{'link': 'https://www.sec.gov/about/offices/oia.shtml'}\n",
            "\n",
            "Office of the Investor Advocate\n",
            "{'link': 'https://www.sec.gov/investorad'}\n",
            "\n",
            "Office of Investor Education and Advocacy\n",
            "{'link': 'https://www.sec.gov/oiea'}\n",
            "\n",
            "Office of Legislative and Intergovernmental Affairs\n",
            "{'link': 'https://www.sec.gov/about/offices/olia.htm'}\n",
            "\n",
            "Office of Minority and Women Inclusion\n",
            "{'link': 'https://www.sec.gov/about/offices/omwi.htm'}\n",
            "\n",
            "Office of Municipal Securities\n",
            "{'link': 'https://www.sec.gov/info/municipal.shtml'}\n",
            "\n",
            "Office of Public Affairs\n",
            "{'link': 'https://www.sec.gov/about/offices/opa.htm'}\n",
            "\n",
            "Office of the Secretary \n",
            "{'link': 'https://www.sec.gov/about/offices/os.htm'}\n",
            "\n",
            "Office of the Strategic Hub for Innovation and Financial Technology (FinHub)\n",
            "{'link': 'https://www.sec.gov/finhub'}\n",
            "\n",
            "Office of Support Operations\n",
            "{'link': 'https://www.sec.gov/about/offices/oso.htm'}\n",
            "\n",
            "Regional Offices\n",
            "{'link': 'https://www.sec.gov/page/sec-regional-offices'}\n",
            "\n"
          ]
        }
      ]
    },
    {
      "cell_type": "code",
      "source": [
        "##adding phone number to dictionary\n",
        "\n",
        "#some webpages don't have phone number listed. we put them in the not phone number list \n",
        "nophone_List=['Office of Administrative Law Judges',  \n",
        "'Office of the Strategic Hub for Innovation and Financial Technology (FinHub)',\n",
        "'Regional Offices','Office of Support Operations']\n",
        "\n",
        "for element in dt:\n",
        "    #if not in the the nophone_list, meaning there is phone number in web\n",
        "    if element not in nophone_List:  \n",
        "        link=dt[element]['link']\n",
        "        print(link,type(link))\n",
        "        r1 = requests.get(link)\n",
        "        c1=r1.text\n",
        "\n",
        "        soup1 = BeautifulSoup(c1, 'html.parser')\n",
        "        x1=soup1.find_all('p')\n",
        "        \n",
        "       #loop through all the <p> tag\n",
        "        for i in x1:\n",
        "             #find the element has phone number \n",
        "            if i.text.find('Contact the Office')==0:\n",
        "                print(i.text)\n",
        "                print(i.text[18:])  #the phone number begin at index 18\n",
        "                #put the phone number in the dictionary\n",
        "                dt[element]['phone']=i.text[18:18+12].strip()\n",
        "                print('--------------------------------------')"
      ],
      "metadata": {
        "colab": {
          "base_uri": "https://localhost:8080/"
        },
        "id": "7afLWPBSTw0L",
        "outputId": "72be05cb-68d8-413a-e20e-6c69824fc667"
      },
      "execution_count": 6,
      "outputs": [
        {
          "output_type": "stream",
          "name": "stdout",
          "text": [
            "https://www.sec.gov/osi <class 'str'>\n",
            "Contact the Office\n",
            "202-551-8900\n",
            "\n",
            "202-551-8900\n",
            "--------------------------------------\n",
            "https://www.sec.gov/about/offices/oacq.htm <class 'str'>\n",
            "Contact the Office\n",
            "202-551-2200\n",
            "\n",
            "202-551-2200\n",
            "--------------------------------------\n",
            "https://www.sec.gov/oasb <class 'str'>\n",
            "Contact the Office\n",
            "202-551-5407\n",
            "\n",
            "202-551-5407\n",
            "--------------------------------------\n",
            "https://www.sec.gov/about/offices/oca.htm <class 'str'>\n",
            "Contact the Office\n",
            "202-551-5300\n",
            "oca@sec.gov\n",
            "\n",
            "202-551-5300\n",
            "oca@sec.gov\n",
            "--------------------------------------\n",
            "https://www.sec.gov/page/ocoosectionlanding <class 'str'>\n",
            "Contact the Office\n",
            "202-551-2200\n",
            "\n",
            "202-551-2200\n",
            "--------------------------------------\n",
            "https://www.sec.gov/about/offices/ocr.shtml <class 'str'>\n",
            "Contact the Office\n",
            "212-336-9080ocr@sec.gov\n",
            "\n",
            "212-336-9080ocr@sec.gov\n",
            "--------------------------------------\n",
            "https://www.sec.gov/eeoinfo.shtml <class 'str'>\n",
            "Contact the Office\n",
            "202-551-6040\n",
            "\n",
            "202-551-6040\n",
            "--------------------------------------\n",
            "https://www.sec.gov/about/offices/ethics.shtml <class 'str'>\n",
            "Contact the Office\n",
            "202-551-5170\n",
            "\n",
            "202-551-5170\n",
            "--------------------------------------\n",
            "https://www.sec.gov/about/offices/ofm.htm <class 'str'>\n",
            "Contact the Office\n",
            "202-551-7840\n",
            "\n",
            "202-551-7840\n",
            "--------------------------------------\n",
            "https://www.sec.gov/about/offices/ogc.htm <class 'str'>\n",
            "Contact the Office\n",
            "202-551-5100\n",
            "\n",
            "202-551-5100\n",
            "--------------------------------------\n",
            "https://www.sec.gov/about/offices/ohr.htm <class 'str'>\n",
            "Contact the Office\n",
            "202-551-7500\n",
            "\n",
            "202-551-7500\n",
            "--------------------------------------\n",
            "https://www.sec.gov/about/offices/oit.htm <class 'str'>\n",
            "Contact the Office\n",
            "202-551-8800\n",
            "\n",
            "202-551-8800\n",
            "--------------------------------------\n",
            "https://www.sec.gov/about/offices/inspector_general.shtml <class 'str'>\n",
            "Contact the Office\n",
            "202-551-6061oig@sec.gov\n",
            "\n",
            "202-551-6061oig@sec.gov\n",
            "--------------------------------------\n",
            "https://www.sec.gov/about/offices/oia.shtml <class 'str'>\n",
            "Contact the Office\n",
            "202-551-6690\n",
            "\n",
            "202-551-6690\n",
            "--------------------------------------\n",
            "https://www.sec.gov/investorad <class 'str'>\n",
            "Contact the Office\n",
            "202-551-3302\n",
            "\n",
            "202-551-3302\n",
            "--------------------------------------\n",
            "https://www.sec.gov/oiea <class 'str'>\n",
            "Contact the Office\n",
            "202-551-6500\n",
            "\n",
            "202-551-6500\n",
            "--------------------------------------\n",
            "https://www.sec.gov/about/offices/olia.htm <class 'str'>\n",
            "Contact the Office\n",
            "202-551-2010\n",
            "\n",
            "202-551-2010\n",
            "--------------------------------------\n",
            "https://www.sec.gov/about/offices/omwi.htm <class 'str'>\n",
            "Contact the Office\n",
            "202-551-6046\n",
            "omwi@sec.gov\n",
            "\n",
            "202-551-6046\n",
            "omwi@sec.gov\n",
            "--------------------------------------\n",
            "https://www.sec.gov/info/municipal.shtml <class 'str'>\n",
            "Contact the Office\n",
            "202-551-5680\n",
            "\n",
            "202-551-5680\n",
            "--------------------------------------\n",
            "https://www.sec.gov/about/offices/opa.htm <class 'str'>\n",
            "Contact the Office\n",
            "202-551-4120\n",
            "\n",
            "202-551-4120\n",
            "--------------------------------------\n",
            "https://www.sec.gov/about/offices/os.htm <class 'str'>\n",
            "Contact the Office\n",
            "202-551-5400\n",
            "\n",
            "202-551-5400\n",
            "--------------------------------------\n"
          ]
        }
      ]
    },
    {
      "cell_type": "code",
      "source": [
        "dt"
      ],
      "metadata": {
        "colab": {
          "base_uri": "https://localhost:8080/"
        },
        "id": "RoHWY_lNT7jc",
        "outputId": "7394390b-797c-4118-f6a8-51100991831a"
      },
      "execution_count": 7,
      "outputs": [
        {
          "output_type": "execute_result",
          "data": {
            "text/plain": [
              "{'EDGAR Business Office': {'link': 'https://www.sec.gov/osi',\n",
              "  'phone': '202-551-890'},\n",
              " 'Office of Acquisitions': {'link': 'https://www.sec.gov/about/offices/oacq.htm',\n",
              "  'phone': '202-551-220'},\n",
              " 'Office of Administrative Law Judges': {'link': 'https://www.sec.gov/alj.shtml'},\n",
              " 'Office of Credit Ratings': {'link': 'https://www.sec.gov/about/offices/ocr.shtml',\n",
              "  'phone': '212-336-908'},\n",
              " 'Office of Equal Employment Opportunity': {'link': 'https://www.sec.gov/eeoinfo.shtml',\n",
              "  'phone': '202-551-604'},\n",
              " 'Office of Financial Management': {'link': 'https://www.sec.gov/about/offices/ofm.htm',\n",
              "  'phone': '202-551-784'},\n",
              " 'Office of Human Resources': {'link': 'https://www.sec.gov/about/offices/ohr.htm',\n",
              "  'phone': '202-551-750'},\n",
              " 'Office of Information Technology': {'link': 'https://www.sec.gov/about/offices/oit.htm',\n",
              "  'phone': '202-551-880'},\n",
              " 'Office of Inspector General': {'link': 'https://www.sec.gov/about/offices/inspector_general.shtml',\n",
              "  'phone': '202-551-606'},\n",
              " 'Office of International Affairs': {'link': 'https://www.sec.gov/about/offices/oia.shtml',\n",
              "  'phone': '202-551-669'},\n",
              " 'Office of Investor Education and Advocacy': {'link': 'https://www.sec.gov/oiea',\n",
              "  'phone': '202-551-650'},\n",
              " 'Office of Legislative and Intergovernmental Affairs': {'link': 'https://www.sec.gov/about/offices/olia.htm',\n",
              "  'phone': '202-551-201'},\n",
              " 'Office of Minority and Women Inclusion': {'link': 'https://www.sec.gov/about/offices/omwi.htm',\n",
              "  'phone': '202-551-604'},\n",
              " 'Office of Municipal Securities': {'link': 'https://www.sec.gov/info/municipal.shtml',\n",
              "  'phone': '202-551-568'},\n",
              " 'Office of Public Affairs': {'link': 'https://www.sec.gov/about/offices/opa.htm',\n",
              "  'phone': '202-551-412'},\n",
              " 'Office of Support Operations': {'link': 'https://www.sec.gov/about/offices/oso.htm'},\n",
              " 'Office of the Advocate for Small Business Capital Formation': {'link': 'https://www.sec.gov/oasb',\n",
              "  'phone': '202-551-540'},\n",
              " 'Office of the Chief Accountant': {'link': 'https://www.sec.gov/about/offices/oca.htm',\n",
              "  'phone': '202-551-530'},\n",
              " 'Office of the Chief Operating Officer': {'link': 'https://www.sec.gov/page/ocoosectionlanding',\n",
              "  'phone': '202-551-220'},\n",
              " 'Office of the Ethics Counsel': {'link': 'https://www.sec.gov/about/offices/ethics.shtml',\n",
              "  'phone': '202-551-517'},\n",
              " 'Office of the General Counsel': {'link': 'https://www.sec.gov/about/offices/ogc.htm',\n",
              "  'phone': '202-551-510'},\n",
              " 'Office of the Investor Advocate': {'link': 'https://www.sec.gov/investorad',\n",
              "  'phone': '202-551-330'},\n",
              " 'Office of the Secretary ': {'link': 'https://www.sec.gov/about/offices/os.htm',\n",
              "  'phone': '202-551-540'},\n",
              " 'Office of the Strategic Hub for Innovation and Financial Technology (FinHub)': {'link': 'https://www.sec.gov/finhub'},\n",
              " 'Regional Offices': {'link': 'https://www.sec.gov/page/sec-regional-offices'}}"
            ]
          },
          "metadata": {},
          "execution_count": 7
        }
      ]
    },
    {
      "cell_type": "code",
      "source": [
        "\n",
        "#SEC Divisions Homepages\n",
        "\n",
        "r3 = requests.get('https://www.sec.gov/divisions.shtml')\n",
        "c3=r3.text\n",
        "\n",
        "soup=BeautifulSoup(c3,\"lxml\") # lxml means parsing a HTML Webpage as well.\n",
        "y=soup.find_all(\"div\",class_=\"colspan-6 border-bottom\") # div tag: division data # finding all the div which has class:\"colspan-6 border-bottom\"\n",
        "\n",
        "\n",
        "#print(x,end=\"\\n\")                                             # The data type of x is \"List\"\n",
        "for item in y:                                                 # This is loop function that will run for as many as the number of items in x.\n",
        "    print(item)                                                # printing all the items results in x\n",
        "    print('--------------------------------------')\n",
        "\n",
        "print('*******************************************************')\n",
        "\n",
        "z=soup.find_all(\"div\",class_=\"colspan-6 border-bottom last\") # div tag: division data # finding all the div which has class:\"colspan-6 border-bottom last\"\n",
        "\n",
        "for item in z:                                                 \n",
        "    print(item)                                                \n",
        "    print('--------------------------------------')"
      ],
      "metadata": {
        "colab": {
          "base_uri": "https://localhost:8080/"
        },
        "id": "ZoytH1FQT_o-",
        "outputId": "3b7da8ee-54b6-4de2-81d5-c20c38f95337"
      },
      "execution_count": 8,
      "outputs": [
        {
          "output_type": "stream",
          "name": "stdout",
          "text": [
            "<div class=\"colspan-6 border-bottom\"><span><a class=\"mainCat\" href=\"/divisions/corpfin.shtml\">Corporation Finance</a></span></div>\n",
            "--------------------------------------\n",
            "<div class=\"colspan-6 border-bottom\"><span><a class=\"mainCat\" href=\"/divisions/riskfin.shtml\">Economic and Risk Analysis</a></span></div>\n",
            "--------------------------------------\n",
            "<div class=\"colspan-6 border-bottom\"><span><a class=\"mainCat\" href=\"/divisions/enforce.shtml\">Enforcement</a></span></div>\n",
            "--------------------------------------\n",
            "*******************************************************\n",
            "<div class=\"colspan-6 border-bottom last\"><span><a class=\"mainCat\" href=\"/about/offices/ocie.shtml\">Examinations</a></span></div>\n",
            "--------------------------------------\n",
            "<div class=\"colspan-6 border-bottom last\"><span><a class=\"mainCat\" href=\"/divisions/investment.shtml\">Investment Management</a></span></div>\n",
            "--------------------------------------\n",
            "<div class=\"colspan-6 border-bottom last\"><span><a class=\"mainCat\" href=\"/divisions/marketreg.shtml\">Trading and Markets</a> </span></div>\n",
            "--------------------------------------\n"
          ]
        }
      ]
    },
    {
      "cell_type": "code",
      "source": [
        "#put the SEC Divisions Homepages in dictionary3\n",
        "dt3={}\n",
        "for element in y:\n",
        "    dt3[element.a.get_text()]={}\n",
        "for element in z:\n",
        "    dt3[element.a.get_text()]={}"
      ],
      "metadata": {
        "id": "7nVsf3oBURN8"
      },
      "execution_count": 9,
      "outputs": []
    },
    {
      "cell_type": "code",
      "source": [
        "# Extracting a local link\n",
        "\n",
        "y[0].a[\"href\"]"
      ],
      "metadata": {
        "colab": {
          "base_uri": "https://localhost:8080/",
          "height": 35
        },
        "id": "FJL9YnonUUyE",
        "outputId": "51044185-f942-45ff-a1db-b39c14c0f1f0"
      },
      "execution_count": 10,
      "outputs": [
        {
          "output_type": "execute_result",
          "data": {
            "application/vnd.google.colaboratory.intrinsic+json": {
              "type": "string"
            },
            "text/plain": [
              "'/divisions/corpfin.shtml'"
            ]
          },
          "metadata": {},
          "execution_count": 10
        }
      ]
    },
    {
      "cell_type": "code",
      "source": [
        "# Extracting a local link\n",
        "\n",
        "z[2].a[\"href\"]"
      ],
      "metadata": {
        "colab": {
          "base_uri": "https://localhost:8080/",
          "height": 35
        },
        "id": "4_cm6TGsUhod",
        "outputId": "7b334e7e-d133-4c6d-97da-bde3084ad278"
      },
      "execution_count": 11,
      "outputs": [
        {
          "output_type": "execute_result",
          "data": {
            "application/vnd.google.colaboratory.intrinsic+json": {
              "type": "string"
            },
            "text/plain": [
              "'/divisions/marketreg.shtml'"
            ]
          },
          "metadata": {},
          "execution_count": 11
        }
      ]
    },
    {
      "cell_type": "code",
      "source": [
        "##get link put in the dictionary3\n",
        "\n",
        "prefix=\"https://www.sec.gov\"\n",
        "for element in y:\n",
        "    dt3[element.a.get_text()][\"link\"]=prefix+element.a[\"href\"] # link = domain name plus local link\n",
        "\n",
        "for element in z:\n",
        "    dt3[element.a.get_text()][\"link\"]=prefix+element.a[\"href\"] # link = domain name plus local link\n",
        "for key,value in dt3.items():\n",
        "    print(key,value,sep='\\n',end='\\n\\n') # puting office names and office link in a seperate line "
      ],
      "metadata": {
        "colab": {
          "base_uri": "https://localhost:8080/"
        },
        "id": "XES88wLKYtq4",
        "outputId": "20e88be4-f268-4de7-c283-1f4e925d3ca9"
      },
      "execution_count": 12,
      "outputs": [
        {
          "output_type": "stream",
          "name": "stdout",
          "text": [
            "Corporation Finance\n",
            "{'link': 'https://www.sec.gov/divisions/corpfin.shtml'}\n",
            "\n",
            "Economic and Risk Analysis\n",
            "{'link': 'https://www.sec.gov/divisions/riskfin.shtml'}\n",
            "\n",
            "Enforcement\n",
            "{'link': 'https://www.sec.gov/divisions/enforce.shtml'}\n",
            "\n",
            "Examinations\n",
            "{'link': 'https://www.sec.gov/about/offices/ocie.shtml'}\n",
            "\n",
            "Investment Management\n",
            "{'link': 'https://www.sec.gov/divisions/investment.shtml'}\n",
            "\n",
            "Trading and Markets\n",
            "{'link': 'https://www.sec.gov/divisions/marketreg.shtml'}\n",
            "\n"
          ]
        }
      ]
    },
    {
      "cell_type": "code",
      "source": [
        "# creating a new json file & writing to JSON\n",
        "# So we can get a result of this code as json file.\n",
        "\n",
        "import json\n",
        "\n",
        "with open('dt.json','w') as writeJSON:\n",
        "    json.dump(dt,writeJSON)"
      ],
      "metadata": {
        "id": "Y3OttaLjYvOY"
      },
      "execution_count": 13,
      "outputs": []
    },
    {
      "cell_type": "code",
      "source": [
        "#  append to a exsiting json file by using \"a\"\n",
        "\n",
        "with open('dt.json','a') as writeJSON:  \n",
        "    json.dump(dt3,writeJSON)"
      ],
      "metadata": {
        "id": "gE_3Z4alZE3n"
      },
      "execution_count": 14,
      "outputs": []
    },
    {
      "cell_type": "code",
      "source": [
        "# creating a new csv file & writing to CSV\n",
        "# So we can get a result of this code as csv file.\n",
        "\n",
        "import os, csv\n",
        "\n",
        "with open (\"dt.csv\", \"w\") as toWrite:\n",
        "    writer = csv.writer(toWrite, delimiter=\",\")\n",
        "    writer.writerow([\"name\", \"link\"])\n",
        "    for a in dt.keys():\n",
        "        writer.writerow([a.strip(), dt[a][\"link\"]])"
      ],
      "metadata": {
        "id": "fHkQd5znZFEc"
      },
      "execution_count": 15,
      "outputs": []
    },
    {
      "cell_type": "code",
      "source": [
        "#get a chart from the website\n",
        "\n",
        "r4= requests.get('https://www.sec.gov/divisions.shtml')\n",
        "c4=r4.text\n",
        "#print(c)\n",
        "\n",
        "\n",
        "soup4 = BeautifulSoup(c4, 'html.parser')\n",
        "x4=soup.find_all(\"p\")\n",
        "print (x4)\n",
        "\n",
        "print('------------------------------------------------------------------------------------------------------------------------')\n",
        "\n",
        "c4=x4[3]    # fourth number of 'p\"\n",
        "c4"
      ],
      "metadata": {
        "colab": {
          "base_uri": "https://localhost:8080/"
        },
        "id": "he_SZQ1DZLEd",
        "outputId": "ee6d8954-8280-4225-824f-4173bd765870"
      },
      "execution_count": 16,
      "outputs": [
        {
          "output_type": "stream",
          "name": "stdout",
          "text": [
            "[<p class=\"options\"><span><a class=\"option-link\" href=\"http://www.sec.gov/edgar/searchedgar/companysearch.html\">Company Filings</a></span> <!--<span><a class=\"option-link\" href=\"http://www.sec.gov/search/search.htm\">More Search Options</a></span>--></p>, <p class=\"release-number\"></p>, <p></p>, <p><a href=\"/about/secorg.pdf\">SEC Organization Chart</a> (<a href=\"/about/orgtext.htm\">text version</a> also available)</p>, <p>For detailed descriptions of SEC offices and divisions, please read <a href=\"/about/whatwedo.shtml\">What We Do</a>.</p>, <p class=\"data-exempt\" id=\"stay-connected-footer\"><span>STAY CONNECTED</span><br class=\"new-line\"/>\n",
            "<a href=\"/news/socialmedia.shtml\"><span class=\"fa fa-lg fa-twitter\"><span class=\"visually-hidden\">1</span></span> <span class=\"hide-for-small\">Twitter</span></a> <a href=\"/news/socialmedia.shtml\"><span class=\"fa fa-lg fa-facebook\"><span class=\"visually-hidden\">2</span></span> <span class=\"hide-for-small\">Facebook</span></a> <a href=\"/about/secrss.shtml\"><span class=\"fa fa-lg fa-rss\"><span class=\"visually-hidden\">3</span></span><span class=\"hide-for-small\">RSS</span></a> <a href=\"//www.youtube.com/user/SECViews/videos\"><span class=\"fa fa-lg fa-youtube-play\"><span class=\"visually-hidden\">4</span></span><span class=\"hide-for-small\">YouTube</span></a><br class=\"hide-for-medium-up\"/>\n",
            "<a href=\"//www.linkedin.com/company/us-securities-and-exchange-commission?trk=mini-profile\"><span class=\"fa fa-lg fa-linkedin\"><span class=\"visually-hidden\">6</span></span><span class=\"hide-for-small\">LinkedIn</span></a> <!--<a href=\"//www.pinterest.com/secgov\"><span class=\"fa fa-lg fa-pinterest-p\"><span class=\"visually-hidden\">7</span></span> <span class=\"hide-for-small\">Pinterest</span></a>--> <a href=\"//public.govdelivery.com/accounts/USSEC/subscriber/new\"><span class=\"fa fa-lg fa-envelope\"><span class=\"visually-hidden\">8</span></span> <span class=\"hide-for-small\">Email Updates</span> </a></p>]\n",
            "------------------------------------------------------------------------------------------------------------------------\n"
          ]
        },
        {
          "output_type": "execute_result",
          "data": {
            "text/plain": [
              "<p><a href=\"/about/secorg.pdf\">SEC Organization Chart</a> (<a href=\"/about/orgtext.htm\">text version</a> also available)</p>"
            ]
          },
          "metadata": {},
          "execution_count": 16
        }
      ]
    },
    {
      "cell_type": "code",
      "source": [
        "# Extracting a local link\n",
        "c4.a[\"href\"]"
      ],
      "metadata": {
        "colab": {
          "base_uri": "https://localhost:8080/",
          "height": 35
        },
        "id": "rWuk-XUjZYPJ",
        "outputId": "156f9f4a-29a9-46a5-ace1-d52b474e2564"
      },
      "execution_count": 17,
      "outputs": [
        {
          "output_type": "execute_result",
          "data": {
            "application/vnd.google.colaboratory.intrinsic+json": {
              "type": "string"
            },
            "text/plain": [
              "'/about/secorg.pdf'"
            ]
          },
          "metadata": {},
          "execution_count": 17
        }
      ]
    },
    {
      "cell_type": "code",
      "source": [
        "prefix1=\".pdf\"\n",
        "name=c4.a.get_text()+prefix1\n",
        "name"
      ],
      "metadata": {
        "colab": {
          "base_uri": "https://localhost:8080/",
          "height": 35
        },
        "id": "tVtIMW_SZtOe",
        "outputId": "a5bdfe8f-25f8-4a29-90ed-6815e38ec561"
      },
      "execution_count": 18,
      "outputs": [
        {
          "output_type": "execute_result",
          "data": {
            "application/vnd.google.colaboratory.intrinsic+json": {
              "type": "string"
            },
            "text/plain": [
              "'SEC Organization Chart.pdf'"
            ]
          },
          "metadata": {},
          "execution_count": 18
        }
      ]
    },
    {
      "cell_type": "code",
      "source": [
        "# prefix = domain name\n",
        "# Combining domain name and local link\n",
        "# Showing link to each element\n",
        "\n",
        "prefix=\"https://www.sec.gov\"\n",
        "url=prefix+c4.a[\"href\"]\n",
        "print(url)\n",
        "\n",
        "type(url) # To show the type of the url"
      ],
      "metadata": {
        "colab": {
          "base_uri": "https://localhost:8080/"
        },
        "id": "EfexlzIaZxVU",
        "outputId": "aab5b90e-900a-4a52-a161-8683e057f230"
      },
      "execution_count": 19,
      "outputs": [
        {
          "output_type": "stream",
          "name": "stdout",
          "text": [
            "https://www.sec.gov/about/secorg.pdf\n"
          ]
        },
        {
          "output_type": "execute_result",
          "data": {
            "text/plain": [
              "str"
            ]
          },
          "metadata": {},
          "execution_count": 19
        }
      ]
    },
    {
      "cell_type": "code",
      "source": [
        "# To retrieve the pdf to local file.\n",
        "\n",
        "import urllib.request\n",
        "urllib.request.urlretrieve(url,name) #downloads the remote data directly to the local"
      ],
      "metadata": {
        "colab": {
          "base_uri": "https://localhost:8080/"
        },
        "id": "YDEmOpnJaBh2",
        "outputId": "e58cbf4b-838a-4915-a56f-47ef7504d698"
      },
      "execution_count": 20,
      "outputs": [
        {
          "output_type": "execute_result",
          "data": {
            "text/plain": [
              "('SEC Organization Chart.pdf', <http.client.HTTPMessage at 0x7fe0229d4d90>)"
            ]
          },
          "metadata": {},
          "execution_count": 20
        }
      ]
    }
  ]
}